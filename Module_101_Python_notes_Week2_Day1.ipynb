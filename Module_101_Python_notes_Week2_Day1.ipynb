{
  "cells": [
    {
      "cell_type": "markdown",
      "metadata": {
        "id": "view-in-github",
        "colab_type": "text"
      },
      "source": [
        "<a href=\"https://colab.research.google.com/github/dan9133/Basic_Summary_of_Python/blob/main/Module_101_Python_notes_Week2_Day1.ipynb\" target=\"_parent\"><img src=\"https://colab.research.google.com/assets/colab-badge.svg\" alt=\"Open In Colab\"/></a>"
      ]
    },
    {
      "cell_type": "markdown",
      "metadata": {
        "id": "19d3fdb8"
      },
      "source": [
        "# **String Manipulation**"
      ],
      "id": "19d3fdb8"
    },
    {
      "cell_type": "markdown",
      "metadata": {
        "id": "d827a4f6"
      },
      "source": [
        "- Strings are sequences of character data. The string type in Python is called str\n"
      ],
      "id": "d827a4f6"
    },
    {
      "cell_type": "code",
      "source": [
        "String_1 = \"New Delhi\"\n"
      ],
      "metadata": {
        "id": "0uABOK32Meov"
      },
      "execution_count": null,
      "outputs": [],
      "id": "0uABOK32Meov"
    },
    {
      "cell_type": "code",
      "source": [
        "type(String_1)"
      ],
      "metadata": {
        "colab": {
          "base_uri": "https://localhost:8080/"
        },
        "id": "ll7N3gpDMyIn",
        "outputId": "b19d13e6-f2d1-4cac-986b-c5471dfb94be"
      },
      "execution_count": null,
      "outputs": [
        {
          "output_type": "execute_result",
          "data": {
            "text/plain": [
              "str"
            ]
          },
          "metadata": {},
          "execution_count": 4
        }
      ],
      "id": "ll7N3gpDMyIn"
    },
    {
      "cell_type": "markdown",
      "source": [
        "## **Indexing and Slicing in python for strings**\n",
        "\n",
        "- Indexing in python starts from 0\n",
        "- Forwarding indexing from 0\n",
        "- Backward indexing from -1\n",
        "- Use [ ] to select a character\n"
      ],
      "metadata": {
        "id": "eOSXT7YjSoSc"
      },
      "id": "eOSXT7YjSoSc"
    },
    {
      "cell_type": "markdown",
      "source": [
        "![image.png](data:image/png;base64,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)"
      ],
      "metadata": {
        "id": "JYP-SnrSiA0E"
      },
      "id": "JYP-SnrSiA0E"
    },
    {
      "cell_type": "code",
      "source": [
        "# How to select a character\n",
        "Day = \"SATURDAY\"\n",
        "Day[5]\n",
        "# Please select second A\n",
        "# Please select first A\n",
        "Day[-2]\n",
        "Day[1]"
      ],
      "metadata": {
        "id": "HNmRLXLdkXic"
      },
      "execution_count": null,
      "outputs": [],
      "id": "HNmRLXLdkXic"
    },
    {
      "cell_type": "markdown",
      "source": [
        "## **String Manipulation Methods**"
      ],
      "metadata": {
        "id": "cIB5dxO4Y-Vv"
      },
      "id": "cIB5dxO4Y-Vv"
    },
    {
      "cell_type": "markdown",
      "source": [
        "### **Strings Concatenation**"
      ],
      "metadata": {
        "id": "2opPFuJINPcA"
      },
      "id": "2opPFuJINPcA"
    },
    {
      "cell_type": "code",
      "source": [
        "# print(\"Swaraj\" + '5')\n",
        "Part1 = \"New\" # assigining New to Part 1\n",
        "Part2 = \"Delhi\" # assigning Delhi to Part 2"
      ],
      "metadata": {
        "id": "KanYzv2kNezY"
      },
      "execution_count": null,
      "outputs": [],
      "id": "KanYzv2kNezY"
    },
    {
      "cell_type": "code",
      "source": [
        "print(Part1 + Part2)"
      ],
      "metadata": {
        "colab": {
          "base_uri": "https://localhost:8080/"
        },
        "id": "UT0hSs8tNlSf",
        "outputId": "4d09f1b2-aea9-4605-ee2f-f29edb74905e"
      },
      "execution_count": null,
      "outputs": [
        {
          "output_type": "stream",
          "name": "stdout",
          "text": [
            "NewDelhi\n"
          ]
        }
      ],
      "id": "UT0hSs8tNlSf"
    },
    {
      "cell_type": "code",
      "source": [
        "print(Part1 + \" \" + Part2)"
      ],
      "metadata": {
        "colab": {
          "base_uri": "https://localhost:8080/"
        },
        "id": "FHnn5y5yN73r",
        "outputId": "8197b0f6-da68-423c-d532-bb759afd581f"
      },
      "execution_count": null,
      "outputs": [
        {
          "output_type": "stream",
          "name": "stdout",
          "text": [
            "New Delhi\n"
          ]
        }
      ],
      "id": "FHnn5y5yN73r"
    },
    {
      "cell_type": "code",
      "source": [
        "Part1 = \"New \"\n",
        "Part2 = \" Delhi\"\n",
        "print(Part1 + Part2)"
      ],
      "metadata": {
        "colab": {
          "base_uri": "https://localhost:8080/"
        },
        "id": "DuE-TVz4ODwY",
        "outputId": "eb5878d9-2eec-4b3f-d144-08b460919228"
      },
      "execution_count": null,
      "outputs": [
        {
          "output_type": "stream",
          "name": "stdout",
          "text": [
            "New Delhi\n"
          ]
        }
      ],
      "id": "DuE-TVz4ODwY"
    },
    {
      "cell_type": "code",
      "execution_count": null,
      "metadata": {
        "id": "81dbc944"
      },
      "outputs": [],
      "source": [
        "name = \"Sachin\"\n",
        "age = 50\n",
        "print(name + \" is \" + age + \" years old\")   # error as only str to str concatenation is possible not int"
      ],
      "id": "81dbc944"
    },
    {
      "cell_type": "code",
      "source": [
        "print('{} is {} years old'.format(name, 50))"
      ],
      "metadata": {
        "id": "WTA7TdkwlIE1",
        "colab": {
          "base_uri": "https://localhost:8080/"
        },
        "outputId": "796f028f-ce11-476e-a7ce-4a41573a2292"
      },
      "execution_count": null,
      "outputs": [
        {
          "output_type": "stream",
          "name": "stdout",
          "text": [
            "Sachin is 50 years old\n"
          ]
        }
      ],
      "id": "WTA7TdkwlIE1"
    },
    {
      "cell_type": "code",
      "source": [
        "a = 5\n",
        "b = 5\n",
        "c = a + b\n",
        "# addition of a and b is c\n",
        "print('additon of {} and {} is {}'.format(a, b, c))"
      ],
      "metadata": {
        "colab": {
          "base_uri": "https://localhost:8080/"
        },
        "id": "IauW2j0ozxkh",
        "outputId": "c64a85b2-6773-4250-c3f2-5d005d4e4d37"
      },
      "execution_count": null,
      "outputs": [
        {
          "output_type": "stream",
          "name": "stdout",
          "text": [
            "additon of 5 and 5 is 10\n"
          ]
        }
      ],
      "id": "IauW2j0ozxkh"
    },
    {
      "cell_type": "code",
      "source": [
        "Name = \"Sachin\"\n",
        "Age = 50\n",
        "# Sachin is 50 years old.\n",
        "print('{} is {} years old'.format(Name, Age))"
      ],
      "metadata": {
        "colab": {
          "base_uri": "https://localhost:8080/"
        },
        "id": "ewLsy0WC0hvC",
        "outputId": "fa780a02-f4c3-478a-90aa-afbda6aa38e1"
      },
      "execution_count": null,
      "outputs": [
        {
          "output_type": "stream",
          "name": "stdout",
          "text": [
            "Sachin is 50 years old\n"
          ]
        }
      ],
      "id": "ewLsy0WC0hvC"
    },
    {
      "cell_type": "markdown",
      "source": [
        "### **Repeat a string**"
      ],
      "metadata": {
        "id": "oAAa_wzyb2PW"
      },
      "id": "oAAa_wzyb2PW"
    },
    {
      "cell_type": "code",
      "source": [
        "word = \"New Delhi \" *  5\n",
        "print(word)"
      ],
      "metadata": {
        "colab": {
          "base_uri": "https://localhost:8080/"
        },
        "id": "rPDzXLhqcfM4",
        "outputId": "213bd917-533c-472e-d814-d9dad67ac87a"
      },
      "execution_count": null,
      "outputs": [
        {
          "output_type": "stream",
          "name": "stdout",
          "text": [
            "New Delhi New Delhi New Delhi New Delhi New Delhi \n"
          ]
        }
      ],
      "id": "rPDzXLhqcfM4"
    },
    {
      "cell_type": "markdown",
      "source": [
        "### **Checking length of a string**\n",
        "\n",
        "- Use len( )"
      ],
      "metadata": {
        "id": "iHKgaVBrXlDg"
      },
      "id": "iHKgaVBrXlDg"
    },
    {
      "cell_type": "code",
      "source": [
        "# Here we want to check the length of both strings\n",
        "Part1 = \"New \"\n",
        "Part2 = \"Delhi\"\n",
        "# Concatenate them first logically and then check the length\n",
        "print(Part1 + Part2)\n",
        "len(Part1 + Part2)\n",
        "\n",
        "#print(Part1 + Part2)\n",
        "#print(len(Part1 + Part2))"
      ],
      "metadata": {
        "colab": {
          "base_uri": "https://localhost:8080/"
        },
        "id": "eGhLrUM8XJ3w",
        "outputId": "00b3882c-60e6-451a-d8b0-e08e3fc7a328"
      },
      "execution_count": null,
      "outputs": [
        {
          "output_type": "stream",
          "name": "stdout",
          "text": [
            "New Delhi\n"
          ]
        },
        {
          "output_type": "execute_result",
          "data": {
            "text/plain": [
              "9"
            ]
          },
          "metadata": {},
          "execution_count": 21
        }
      ],
      "id": "eGhLrUM8XJ3w"
    },
    {
      "cell_type": "markdown",
      "source": [
        "### **Replace Part of a String**\n",
        "\n",
        "- replace( )"
      ],
      "metadata": {
        "id": "YbYlc4AvYxVa"
      },
      "id": "YbYlc4AvYxVa"
    },
    {
      "cell_type": "code",
      "source": [
        "Number = '12,500'\n",
        "type(Number)"
      ],
      "metadata": {
        "colab": {
          "base_uri": "https://localhost:8080/"
        },
        "id": "j4YoVsMpY3ZG",
        "outputId": "877ed1bd-34e6-4166-aab3-7f50542b8e12"
      },
      "execution_count": null,
      "outputs": [
        {
          "output_type": "execute_result",
          "data": {
            "text/plain": [
              "str"
            ]
          },
          "metadata": {},
          "execution_count": 23
        }
      ],
      "id": "j4YoVsMpY3ZG"
    },
    {
      "cell_type": "code",
      "source": [
        "Number_new = int(Number.replace(',', ''))\n",
        "print(Number_new)\n",
        "type(Number_new)"
      ],
      "metadata": {
        "colab": {
          "base_uri": "https://localhost:8080/"
        },
        "id": "8BESBKNm3myk",
        "outputId": "016ca8dd-138d-4e8b-d34a-3b3a21bd61a3"
      },
      "execution_count": null,
      "outputs": [
        {
          "output_type": "stream",
          "name": "stdout",
          "text": [
            "12500\n"
          ]
        },
        {
          "output_type": "execute_result",
          "data": {
            "text/plain": [
              "int"
            ]
          },
          "metadata": {},
          "execution_count": 25
        }
      ],
      "id": "8BESBKNm3myk"
    },
    {
      "cell_type": "markdown",
      "source": [
        "### **Counting any characters**\n",
        "\n",
        "- count( )"
      ],
      "metadata": {
        "id": "GhY1OOYwaPXJ"
      },
      "id": "GhY1OOYwaPXJ"
    },
    {
      "cell_type": "code",
      "execution_count": null,
      "metadata": {
        "colab": {
          "base_uri": "https://localhost:8080/"
        },
        "id": "5b72ea90",
        "outputId": "e008b3c5-7eec-412f-a80e-be7cc0fad751"
      },
      "outputs": [
        {
          "output_type": "execute_result",
          "data": {
            "text/plain": [
              "4"
            ]
          },
          "metadata": {},
          "execution_count": 29
        }
      ],
      "source": [
        "Week_2 = \"Today is, your second week, of data science course\"\n",
        "Week_2.count('s')"
      ],
      "id": "5b72ea90"
    },
    {
      "cell_type": "markdown",
      "metadata": {
        "id": "f143cef0"
      },
      "source": [
        "### Splitting\n",
        "\n",
        "`split()`\t- Splits the string at the specified separator, and returns a list \\\n",
        "`splitlines()`\t- Splits the string at line breaks and returns a list"
      ],
      "id": "f143cef0"
    },
    {
      "cell_type": "code",
      "source": [
        "str1 = \"Sandeep Kumar Singh\""
      ],
      "metadata": {
        "id": "pruNdWh1d0H4"
      },
      "execution_count": null,
      "outputs": [],
      "id": "pruNdWh1d0H4"
    },
    {
      "cell_type": "code",
      "execution_count": null,
      "metadata": {
        "colab": {
          "base_uri": "https://localhost:8080/"
        },
        "id": "ee645209",
        "outputId": "46175114-ef8c-4579-cad6-aaa056457262"
      },
      "outputs": [
        {
          "output_type": "execute_result",
          "data": {
            "text/plain": [
              "['Sandeep', 'Kumar', 'Singh']"
            ]
          },
          "metadata": {},
          "execution_count": 34
        }
      ],
      "source": [
        "spl= str1.split(\" \") # split is used to split words in the string. We can use other separtors also.\n",
        "spl"
      ],
      "id": "ee645209"
    },
    {
      "cell_type": "code",
      "source": [
        "str2 = '''\n",
        "This is DS16 batch.\n",
        "\n",
        "We are learning python.\n",
        "\n",
        "Python is not tough\n",
        "'''\n"
      ],
      "metadata": {
        "id": "7yF6Qo1VeWdf"
      },
      "execution_count": null,
      "outputs": [],
      "id": "7yF6Qo1VeWdf"
    },
    {
      "cell_type": "code",
      "execution_count": null,
      "metadata": {
        "scrolled": true,
        "id": "76f56a00",
        "colab": {
          "base_uri": "https://localhost:8080/"
        },
        "outputId": "4bee3e09-1d0f-4c57-fb7f-ac036785dc98"
      },
      "outputs": [
        {
          "output_type": "execute_result",
          "data": {
            "text/plain": [
              "['',\n",
              " 'This is DS16 batch.',\n",
              " '',\n",
              " 'We are learning python.',\n",
              " '',\n",
              " 'Python is not tough']"
            ]
          },
          "metadata": {},
          "execution_count": 28
        }
      ],
      "source": [
        "m= str2.splitlines() # splitline is used to split lines in the string\n",
        "m"
      ],
      "id": "76f56a00"
    },
    {
      "cell_type": "code",
      "source": [
        "str3 = 'This is DS16 batch. We are learning python. \\nPython is not tough.'\n",
        "print(str3)"
      ],
      "metadata": {
        "colab": {
          "base_uri": "https://localhost:8080/"
        },
        "id": "f7UIZeF8fhnS",
        "outputId": "a16b818f-835c-4308-e9cc-348a8e51308a"
      },
      "execution_count": null,
      "outputs": [
        {
          "output_type": "stream",
          "name": "stdout",
          "text": [
            "This is DS16 batch. We are learning python. \n",
            "Python is not tough.\n"
          ]
        }
      ],
      "id": "f7UIZeF8fhnS"
    },
    {
      "cell_type": "code",
      "source": [
        "str3 = 'This is DS16 batch.\\nWe are learning python.\\n\\nPython is not tough.' # \\n & \\t are escape characters\n",
        "print(str3)"
      ],
      "metadata": {
        "colab": {
          "base_uri": "https://localhost:8080/"
        },
        "id": "lolKrUw8fn0D",
        "outputId": "69592538-00eb-40e4-f2f3-174a0207eae2"
      },
      "execution_count": null,
      "outputs": [
        {
          "output_type": "stream",
          "name": "stdout",
          "text": [
            "This is DS16 batch.\n",
            "We are learning python.\n",
            "\n",
            "Python is not tough.\n"
          ]
        }
      ],
      "id": "lolKrUw8fn0D"
    },
    {
      "cell_type": "markdown",
      "metadata": {
        "id": "f7d64b9b"
      },
      "source": [
        "### Stripping (remove spaces and characters)\n",
        "`lstrip()` - Returns a left trim version of the string \\\n",
        "`rstrip()` - Returns a right trim version of the string \\\n",
        "`strip()` -\tReturns a trimmed version of the string"
      ],
      "id": "f7d64b9b"
    },
    {
      "cell_type": "code",
      "execution_count": null,
      "metadata": {
        "colab": {
          "base_uri": "https://localhost:8080/",
          "height": 36
        },
        "id": "7f96a367",
        "outputId": "ddfbbea9-d73b-4253-ddd7-a6f601eae6c3"
      },
      "outputs": [
        {
          "output_type": "execute_result",
          "data": {
            "text/plain": [
              "'Name is enough'"
            ],
            "application/vnd.google.colaboratory.intrinsic+json": {
              "type": "string"
            }
          },
          "metadata": {},
          "execution_count": 44
        }
      ],
      "source": [
        "str1 = \" Name is enough \"\n",
        "str1.strip() # removes any leading (spaces at the beginning) and trailing (spaces at the end) characters"
      ],
      "id": "7f96a367"
    },
    {
      "cell_type": "code",
      "execution_count": null,
      "metadata": {
        "colab": {
          "base_uri": "https://localhost:8080/",
          "height": 36
        },
        "id": "9d5b7d78",
        "outputId": "0e313d95-e6fd-428b-b8ee-a5e2658aacae"
      },
      "outputs": [
        {
          "output_type": "execute_result",
          "data": {
            "text/plain": [
              "'Name is enough '"
            ],
            "application/vnd.google.colaboratory.intrinsic+json": {
              "type": "string"
            }
          },
          "metadata": {},
          "execution_count": 45
        }
      ],
      "source": [
        "str1.lstrip() # removes any leading characters (space is the default leading character to remove)"
      ],
      "id": "9d5b7d78"
    },
    {
      "cell_type": "code",
      "execution_count": null,
      "metadata": {
        "colab": {
          "base_uri": "https://localhost:8080/",
          "height": 36
        },
        "id": "a0b4575d",
        "outputId": "b8337107-8d5b-44dc-bd48-b622a6343d1d"
      },
      "outputs": [
        {
          "output_type": "execute_result",
          "data": {
            "text/plain": [
              "' Name is enough'"
            ],
            "application/vnd.google.colaboratory.intrinsic+json": {
              "type": "string"
            }
          },
          "metadata": {},
          "execution_count": 46
        }
      ],
      "source": [
        "str1.rstrip() # removes any trailing characters (characters at the end a string), space is the default trailing character to remove"
      ],
      "id": "a0b4575d"
    },
    {
      "cell_type": "code",
      "source": [
        "# Practice question\n",
        "str1 = \"AGCTCGATGGTTCCAACGCGCGC@@@@@@@\"\n",
        "str2 = str1.rstrip('@')\n",
        "print(str2)\n"
      ],
      "metadata": {
        "id": "_4ufBvEng8ZU",
        "colab": {
          "base_uri": "https://localhost:8080/"
        },
        "outputId": "e79def75-c7c9-449b-ec77-56eda04ff167"
      },
      "execution_count": null,
      "outputs": [
        {
          "output_type": "stream",
          "name": "stdout",
          "text": [
            "AGCTCGATGGTTCCAACGCGCGC\n"
          ]
        }
      ],
      "id": "_4ufBvEng8ZU"
    },
    {
      "cell_type": "markdown",
      "metadata": {
        "id": "3eec9d8c"
      },
      "source": [
        "### String Casing\n",
        "`capitalize()`\tConverts the first character to upper case\\\n",
        "`lower()`\tConverts a string into lower case\\\n",
        "`upper()`\tConverts a string into upper case\\\n",
        "`title()` Converts first letter in each word into upper case"
      ],
      "id": "3eec9d8c"
    },
    {
      "cell_type": "code",
      "execution_count": null,
      "metadata": {
        "colab": {
          "base_uri": "https://localhost:8080/",
          "height": 35
        },
        "id": "3c736263",
        "outputId": "782da4df-a4f7-4706-e62e-cfaa3050beb1"
      },
      "outputs": [
        {
          "output_type": "execute_result",
          "data": {
            "text/plain": [
              "'Data science is a good course to learn.'"
            ],
            "application/vnd.google.colaboratory.intrinsic+json": {
              "type": "string"
            }
          },
          "metadata": {},
          "execution_count": 55
        }
      ],
      "source": [
        "Sent = \"data science is a good course to learn.\"\n",
        "Sent.capitalize() # Converts the first character to upper case"
      ],
      "id": "3c736263"
    },
    {
      "cell_type": "code",
      "execution_count": null,
      "metadata": {
        "colab": {
          "base_uri": "https://localhost:8080/",
          "height": 35
        },
        "id": "0e569afe",
        "outputId": "08de945a-9c31-4074-80fa-7204ce6b1a7e"
      },
      "outputs": [
        {
          "output_type": "execute_result",
          "data": {
            "text/plain": [
              "'DATA SCIENCE IS A GOOD COURSE TO LEARN.'"
            ],
            "application/vnd.google.colaboratory.intrinsic+json": {
              "type": "string"
            }
          },
          "metadata": {},
          "execution_count": 48
        }
      ],
      "source": [
        "str1 = Sent.upper() # Converts a string into upper case\n",
        "str1"
      ],
      "id": "0e569afe"
    },
    {
      "cell_type": "code",
      "execution_count": null,
      "metadata": {
        "colab": {
          "base_uri": "https://localhost:8080/",
          "height": 35
        },
        "id": "5a92b080",
        "outputId": "82624754-3ffe-4e4f-91cf-2e406d7f46a3"
      },
      "outputs": [
        {
          "output_type": "execute_result",
          "data": {
            "text/plain": [
              "'data science is a good course to learn.'"
            ],
            "application/vnd.google.colaboratory.intrinsic+json": {
              "type": "string"
            }
          },
          "metadata": {},
          "execution_count": 49
        }
      ],
      "source": [
        "str1.lower() #  Converts a string into lower case"
      ],
      "id": "5a92b080"
    },
    {
      "cell_type": "code",
      "source": [
        "Sent.title()"
      ],
      "metadata": {
        "colab": {
          "base_uri": "https://localhost:8080/",
          "height": 35
        },
        "id": "RU0JQU7ciYaa",
        "outputId": "60434c16-eb5e-4c0b-ad12-35effba09e20"
      },
      "execution_count": null,
      "outputs": [
        {
          "output_type": "execute_result",
          "data": {
            "text/plain": [
              "'Data Science Is A Good Course To Learn.'"
            ],
            "application/vnd.google.colaboratory.intrinsic+json": {
              "type": "string"
            }
          },
          "metadata": {},
          "execution_count": 56
        }
      ],
      "id": "RU0JQU7ciYaa"
    },
    {
      "cell_type": "markdown",
      "metadata": {
        "id": "4d557317"
      },
      "source": [
        "### String Character Checking\n",
        "`endswith()`\tReturns true if the string ends with the specified value\\\n",
        "`startswith()`\tReturns true if the string starts with the specified value\\\n"
      ],
      "id": "4d557317"
    },
    {
      "cell_type": "code",
      "execution_count": null,
      "metadata": {
        "colab": {
          "base_uri": "https://localhost:8080/"
        },
        "id": "004083ec",
        "outputId": "4882d262-fea1-4060-e5d8-5adb05414c42"
      },
      "outputs": [
        {
          "output_type": "execute_result",
          "data": {
            "text/plain": [
              "True"
            ]
          },
          "metadata": {},
          "execution_count": 60
        }
      ],
      "source": [
        "str1 = \"data science is a good course to data learn.\"\n",
        "str1.endswith(\".\") # method returns True if the string ends with the specified value, otherwise False."
      ],
      "id": "004083ec"
    },
    {
      "cell_type": "code",
      "execution_count": null,
      "metadata": {
        "id": "9ad229e1",
        "colab": {
          "base_uri": "https://localhost:8080/"
        },
        "outputId": "36d6f012-cee7-4977-b100-88ab95b766d2"
      },
      "outputs": [
        {
          "output_type": "execute_result",
          "data": {
            "text/plain": [
              "True"
            ]
          },
          "metadata": {},
          "execution_count": 57
        }
      ],
      "source": [
        "str1.startswith(\"data\") # method returns True if the string starts with the specified value, otherwise False."
      ],
      "id": "9ad229e1"
    },
    {
      "cell_type": "markdown",
      "metadata": {
        "id": "e6706ae2"
      },
      "source": [
        "### String Searching\n",
        "`find()` -\tSearches the string for a specified value and returns the first position of where it was found\n",
        "\n"
      ],
      "id": "e6706ae2"
    },
    {
      "cell_type": "code",
      "execution_count": null,
      "metadata": {
        "colab": {
          "base_uri": "https://localhost:8080/"
        },
        "id": "01a946ab",
        "outputId": "1a401b7c-5d43-464f-ca47-38d72591fa4a"
      },
      "outputs": [
        {
          "output_type": "execute_result",
          "data": {
            "text/plain": [
              "30"
            ]
          },
          "metadata": {},
          "execution_count": 64
        }
      ],
      "source": [
        "str1.find('to') # Searches the string for a specified value and returns the first position of where it was found"
      ],
      "id": "01a946ab"
    },
    {
      "cell_type": "markdown",
      "metadata": {
        "id": "5573f413"
      },
      "source": [
        "### **String Joining**\n",
        "`join()` -\tJoins the elements one by one with a given string\n"
      ],
      "id": "5573f413"
    },
    {
      "cell_type": "code",
      "execution_count": null,
      "metadata": {
        "colab": {
          "base_uri": "https://localhost:8080/",
          "height": 35
        },
        "id": "6dfad9df",
        "outputId": "449591a5-e141-42bb-851e-c45b12d31db8"
      },
      "outputs": [
        {
          "output_type": "execute_result",
          "data": {
            "text/plain": [
              "'SSingh aSingh nSingh dSingh eSingh eSingh pSingh  '"
            ],
            "application/vnd.google.colaboratory.intrinsic+json": {
              "type": "string"
            }
          },
          "metadata": {},
          "execution_count": 26
        }
      ],
      "source": [
        "a = \"Sandeep \"\n",
        "'Singh '.join(a)"
      ],
      "id": "6dfad9df"
    },
    {
      "cell_type": "markdown",
      "source": [
        "### **Alphanumeric characters**\n",
        "- `isalnum()` to check if a string only contains alphanumeric characters (alphabets and numbers)"
      ],
      "metadata": {
        "id": "zqssgU3ylyNZ"
      },
      "id": "zqssgU3ylyNZ"
    },
    {
      "cell_type": "code",
      "source": [
        "word = 'DS16'\n",
        "print(word.isalnum())"
      ],
      "metadata": {
        "id": "LW6cgseulxRh",
        "colab": {
          "base_uri": "https://localhost:8080/"
        },
        "outputId": "dec5cbdb-dd2a-48e8-b4b9-9a7c8786a220"
      },
      "execution_count": null,
      "outputs": [
        {
          "output_type": "stream",
          "name": "stdout",
          "text": [
            "True\n"
          ]
        }
      ],
      "id": "LW6cgseulxRh"
    },
    {
      "cell_type": "code",
      "source": [
        "word = 'DS 16'\n",
        "print(word.isalnum())"
      ],
      "metadata": {
        "id": "bRxZ8fBfmPpJ",
        "colab": {
          "base_uri": "https://localhost:8080/"
        },
        "outputId": "07219396-a2d3-41d6-f301-9f29d175e9ea"
      },
      "execution_count": null,
      "outputs": [
        {
          "output_type": "stream",
          "name": "stdout",
          "text": [
            "False\n"
          ]
        }
      ],
      "id": "bRxZ8fBfmPpJ"
    },
    {
      "cell_type": "markdown",
      "source": [
        "### **Empty string**"
      ],
      "metadata": {
        "id": "om0Y-ywolGfz"
      },
      "id": "om0Y-ywolGfz"
    },
    {
      "cell_type": "code",
      "source": [
        "# The pythonic way to check if a string is empty is using the not operator.\n",
        "my_string = ''\n",
        "if not my_string:\n",
        "  print(\"My string is empty!!!\")"
      ],
      "metadata": {
        "id": "0D4ohjGTlJkP",
        "colab": {
          "base_uri": "https://localhost:8080/"
        },
        "outputId": "ea796864-19f5-47be-9804-156516b8decd"
      },
      "execution_count": null,
      "outputs": [
        {
          "output_type": "stream",
          "name": "stdout",
          "text": [
            "My string is empty!!!\n"
          ]
        }
      ],
      "id": "0D4ohjGTlJkP"
    },
    {
      "cell_type": "code",
      "source": [
        "my_string = 'amazon, microsoft'\n",
        "if not my_string:\n",
        "  print(\"My string is NOT empty!!!\")"
      ],
      "metadata": {
        "id": "u0TOEeGrlMCx"
      },
      "execution_count": null,
      "outputs": [],
      "id": "u0TOEeGrlMCx"
    },
    {
      "cell_type": "markdown",
      "source": [
        "https://www.freecodecamp.org/news/python-string-manipulation-handbook/"
      ],
      "metadata": {
        "id": "JmZuDNfpmbhE"
      },
      "id": "JmZuDNfpmbhE"
    },
    {
      "cell_type": "code",
      "source": [],
      "metadata": {
        "id": "rXcWdKNJZRLy"
      },
      "id": "rXcWdKNJZRLy",
      "execution_count": null,
      "outputs": []
    },
    {
      "cell_type": "markdown",
      "metadata": {
        "id": "2faa6607"
      },
      "source": [
        "# Data Structures"
      ],
      "id": "2faa6607"
    },
    {
      "cell_type": "markdown",
      "metadata": {
        "id": "e6791275"
      },
      "source": [
        "## Sequence types\n",
        "- A sequence is an ordered collection of items\n",
        "- The word ordered there is important\n",
        "- If a sequence was not ordered, you couldn't refer to individual items by their index position.\n",
        "\n",
        "https://docs.python.org/3/library/stdtypes.html#sequence-types-list-tuple-range"
      ],
      "id": "e6791275"
    },
    {
      "cell_type": "markdown",
      "metadata": {
        "id": "fd25eaad"
      },
      "source": [
        "- Four common built in data structures are **list, tuples, dictionary and sets**\n",
        "- Similar to file container use to store data. For example: DS ID may contain many information.\n",
        "- Different files may have different way to store the data. For example: excel, csv, json"
      ],
      "id": "fd25eaad"
    },
    {
      "cell_type": "markdown",
      "metadata": {
        "id": "1dea66b7"
      },
      "source": [
        "## List"
      ],
      "id": "1dea66b7"
    },
    {
      "cell_type": "markdown",
      "metadata": {
        "id": "43c7a0c4"
      },
      "source": [
        "## Properties of a list\n",
        "1. Denoted by **[ ]** and seperated by **,**\n",
        "2. Ordered data structures\n",
        "3. Allow all the data types and duplicates and can also contain other data structures also\n",
        "4. Mutable (Can we change it or not)\n",
        "5. Can be accessed by index"
      ],
      "id": "43c7a0c4"
    },
    {
      "cell_type": "markdown",
      "source": [
        "### Order"
      ],
      "metadata": {
        "id": "VeW5MRVcHm20"
      },
      "id": "VeW5MRVcHm20"
    },
    {
      "cell_type": "code",
      "source": [
        "a = [5, 7, 8, 9] # List a\n",
        "b = [5, 8, 7, 9] # List b"
      ],
      "metadata": {
        "id": "ZTpwdPcOHl8V"
      },
      "execution_count": null,
      "outputs": [],
      "id": "ZTpwdPcOHl8V"
    },
    {
      "cell_type": "code",
      "source": [
        "a == b # comparing a and b if they are equal or not"
      ],
      "metadata": {
        "colab": {
          "base_uri": "https://localhost:8080/"
        },
        "id": "AZ3Z4rWaH9kV",
        "outputId": "2bbe202d-277c-4589-c990-6c0f395b2311"
      },
      "execution_count": null,
      "outputs": [
        {
          "output_type": "execute_result",
          "data": {
            "text/plain": [
              "True"
            ]
          },
          "metadata": {},
          "execution_count": 6
        }
      ],
      "id": "AZ3Z4rWaH9kV"
    },
    {
      "cell_type": "markdown",
      "source": [
        "- An ordered collection of objects.\n",
        "- Order is maintained lifetime\n",
        "- List containing same elements in different orders are not same"
      ],
      "metadata": {
        "id": "AmbmJ2MtIWsu"
      },
      "id": "AmbmJ2MtIWsu"
    },
    {
      "cell_type": "code",
      "source": [
        "a is b # is and is not are identity operators\n",
        "# Returns True if both variables are the same object"
      ],
      "metadata": {
        "colab": {
          "base_uri": "https://localhost:8080/"
        },
        "id": "ZaKCjhaNIpiN",
        "outputId": "ddd68826-0d4c-447f-845a-c4eb382a802b"
      },
      "execution_count": null,
      "outputs": [
        {
          "output_type": "execute_result",
          "data": {
            "text/plain": [
              "False"
            ]
          },
          "metadata": {},
          "execution_count": 9
        }
      ],
      "id": "ZaKCjhaNIpiN"
    },
    {
      "cell_type": "code",
      "source": [
        "a is not b\n",
        "# Returns True if both variables are not the same object"
      ],
      "metadata": {
        "colab": {
          "base_uri": "https://localhost:8080/"
        },
        "id": "apT7PrkTI9oC",
        "outputId": "43547730-4c32-4a02-971e-c0b0805d10f8"
      },
      "execution_count": null,
      "outputs": [
        {
          "output_type": "execute_result",
          "data": {
            "text/plain": [
              "True"
            ]
          },
          "metadata": {},
          "execution_count": 10
        }
      ],
      "id": "apT7PrkTI9oC"
    },
    {
      "cell_type": "code",
      "source": [
        "a = [] # empty list or as many as computer memory allows"
      ],
      "metadata": {
        "id": "RgXnSHopJT-O"
      },
      "execution_count": null,
      "outputs": [],
      "id": "RgXnSHopJT-O"
    },
    {
      "cell_type": "markdown",
      "source": [
        "### Different data types"
      ],
      "metadata": {
        "id": "UNc7VtsNKD9F"
      },
      "id": "UNc7VtsNKD9F"
    },
    {
      "cell_type": "code",
      "execution_count": null,
      "metadata": {
        "id": "1bf7978c",
        "outputId": "2ff14e52-52d8-4db9-fbd8-31830e321b30",
        "colab": {
          "base_uri": "https://localhost:8080/"
        }
      },
      "outputs": [
        {
          "output_type": "execute_result",
          "data": {
            "text/plain": [
              "['Sandeep', 25, 'Graduate', True, 76.5, 76.5]"
            ]
          },
          "metadata": {},
          "execution_count": 11
        }
      ],
      "source": [
        "DS001 = [\"Sandeep\", 25, \"Graduate\", True, 76.5, 76.5] # Name, age, education, IT/NonIT, Python marks\n",
        "DS001"
      ],
      "id": "1bf7978c"
    },
    {
      "cell_type": "code",
      "execution_count": null,
      "metadata": {
        "id": "733b7c49",
        "outputId": "e59db6c1-01e9-4327-ffed-5df8dea4a2d8",
        "colab": {
          "base_uri": "https://localhost:8080/"
        }
      },
      "outputs": [
        {
          "output_type": "execute_result",
          "data": {
            "text/plain": [
              "list"
            ]
          },
          "metadata": {},
          "execution_count": 12
        }
      ],
      "source": [
        "type(DS001)"
      ],
      "id": "733b7c49"
    },
    {
      "cell_type": "markdown",
      "source": [
        "### Index"
      ],
      "metadata": {
        "id": "2HR9RqBdKJcT"
      },
      "id": "2HR9RqBdKJcT"
    },
    {
      "cell_type": "code",
      "execution_count": null,
      "metadata": {
        "id": "6ef5ee01",
        "outputId": "d78da684-af3b-42e5-b328-cec8b17b3192",
        "colab": {
          "base_uri": "https://localhost:8080/"
        }
      },
      "outputs": [
        {
          "output_type": "execute_result",
          "data": {
            "text/plain": [
              "[True, 76.5, 76.5]"
            ]
          },
          "metadata": {},
          "execution_count": 14
        }
      ],
      "source": [
        "# Check education of DS001\n",
        "DS001[3:]"
      ],
      "id": "6ef5ee01"
    },
    {
      "cell_type": "markdown",
      "source": [
        "### Mutable"
      ],
      "metadata": {
        "id": "ZTbTWzrlKccc"
      },
      "id": "ZTbTWzrlKccc"
    },
    {
      "cell_type": "code",
      "execution_count": null,
      "metadata": {
        "id": "25dc01ab"
      },
      "outputs": [],
      "source": [
        "# The person is only undergraduate\n",
        "DS001[2] = \"Under Graduate\""
      ],
      "id": "25dc01ab"
    },
    {
      "cell_type": "code",
      "execution_count": null,
      "metadata": {
        "id": "f79bbf86",
        "outputId": "6716a03a-2fae-41e4-ed96-aac3640a7a18",
        "colab": {
          "base_uri": "https://localhost:8080/"
        }
      },
      "outputs": [
        {
          "output_type": "execute_result",
          "data": {
            "text/plain": [
              "['Sandeep', 25, 'Under Graduate', True, 76.5, 76.5]"
            ]
          },
          "metadata": {},
          "execution_count": 17
        }
      ],
      "source": [
        "DS001"
      ],
      "id": "f79bbf86"
    },
    {
      "cell_type": "markdown",
      "source": [
        " #### Membership operators"
      ],
      "metadata": {
        "id": "Ifib-SaoKmsi"
      },
      "id": "Ifib-SaoKmsi"
    },
    {
      "cell_type": "code",
      "source": [
        "'Sandeep' in DS001 # Returns True if a sequence with the specified value is present in the object"
      ],
      "metadata": {
        "colab": {
          "base_uri": "https://localhost:8080/"
        },
        "id": "UJbynhWvNtKU",
        "outputId": "f00db15f-ccca-47a8-c45c-3c368cb2828b"
      },
      "execution_count": null,
      "outputs": [
        {
          "output_type": "execute_result",
          "data": {
            "text/plain": [
              "True"
            ]
          },
          "metadata": {},
          "execution_count": 19
        }
      ],
      "id": "UJbynhWvNtKU"
    },
    {
      "cell_type": "code",
      "source": [
        "'sandeep' not in DS001 # Returns True if a sequence with the specified value is not present in the object"
      ],
      "metadata": {
        "colab": {
          "base_uri": "https://localhost:8080/"
        },
        "id": "VRlX-TLtN8Ec",
        "outputId": "4b5e19b3-41d8-493d-a367-1b2d4ac77f49"
      },
      "execution_count": null,
      "outputs": [
        {
          "output_type": "execute_result",
          "data": {
            "text/plain": [
              "True"
            ]
          },
          "metadata": {},
          "execution_count": 20
        }
      ],
      "id": "VRlX-TLtN8Ec"
    },
    {
      "cell_type": "markdown",
      "metadata": {
        "id": "5b66514f"
      },
      "source": [
        "### Practice\n",
        "- Create list using your own information\n"
      ],
      "id": "5b66514f"
    },
    {
      "cell_type": "markdown",
      "metadata": {
        "id": "d2d803b5"
      },
      "source": [
        "### Type casting"
      ],
      "id": "d2d803b5"
    },
    {
      "cell_type": "code",
      "execution_count": null,
      "metadata": {
        "id": "15cdaabf",
        "outputId": "e6019189-982c-410d-be7f-64688ac29abd",
        "colab": {
          "base_uri": "https://localhost:8080/"
        }
      },
      "outputs": [
        {
          "output_type": "execute_result",
          "data": {
            "text/plain": [
              "(52, 17, 59, 60, 32)"
            ]
          },
          "metadata": {},
          "execution_count": 21
        }
      ],
      "source": [
        "Virat_score = 52, 17, 59, 60, 32\n",
        "Virat_score"
      ],
      "id": "15cdaabf"
    },
    {
      "cell_type": "code",
      "execution_count": null,
      "metadata": {
        "id": "c6de005f",
        "outputId": "0369c082-78f3-4f0d-dd52-5cb31cf04711",
        "colab": {
          "base_uri": "https://localhost:8080/"
        }
      },
      "outputs": [
        {
          "output_type": "execute_result",
          "data": {
            "text/plain": [
              "tuple"
            ]
          },
          "metadata": {},
          "execution_count": 22
        }
      ],
      "source": [
        "type(Virat_score)"
      ],
      "id": "c6de005f"
    },
    {
      "cell_type": "code",
      "execution_count": null,
      "metadata": {
        "id": "402aa2b3",
        "outputId": "75ceda99-610a-4561-e4ae-cfadb5519bc5",
        "colab": {
          "base_uri": "https://localhost:8080/"
        }
      },
      "outputs": [
        {
          "output_type": "execute_result",
          "data": {
            "text/plain": [
              "[52, 17, 59, 60, 32]"
            ]
          },
          "metadata": {},
          "execution_count": 23
        }
      ],
      "source": [
        "Virat_score = list(Virat_score)\n",
        "Virat_score"
      ],
      "id": "402aa2b3"
    },
    {
      "cell_type": "code",
      "execution_count": null,
      "metadata": {
        "id": "ef8386ba",
        "outputId": "2380a222-aeb2-4de4-ceea-202eecf26ee6",
        "colab": {
          "base_uri": "https://localhost:8080/"
        }
      },
      "outputs": [
        {
          "output_type": "execute_result",
          "data": {
            "text/plain": [
              "list"
            ]
          },
          "metadata": {},
          "execution_count": 24
        }
      ],
      "source": [
        "type(Virat_score)"
      ],
      "id": "ef8386ba"
    },
    {
      "cell_type": "markdown",
      "metadata": {
        "id": "fdf67f39"
      },
      "source": [
        "### Accessing list\n",
        "\n",
        "1- Access only your marks\n",
        "\n",
        "2- Access everything from list\n",
        "\n",
        "3- Access only last element\n",
        "\n",
        "4- Access only name, education and python marks"
      ],
      "id": "fdf67f39"
    },
    {
      "cell_type": "markdown",
      "metadata": {
        "id": "bb91acfc"
      },
      "source": [
        "### Creating list"
      ],
      "id": "bb91acfc"
    },
    {
      "cell_type": "code",
      "execution_count": null,
      "metadata": {
        "colab": {
          "base_uri": "https://localhost:8080/"
        },
        "id": "c17000a4",
        "outputId": "980ebb36-3597-475f-f69f-333908392ee0"
      },
      "outputs": [
        {
          "output_type": "execute_result",
          "data": {
            "text/plain": [
              "[1, 4, 10, 10, 4, 4, 1, 6, 2, 6]"
            ]
          },
          "metadata": {},
          "execution_count": 18
        }
      ],
      "source": [
        "import random\n",
        "rand_number = [random.randint(1, 10) for i in range(10)]\n",
        "rand_number"
      ],
      "id": "c17000a4"
    },
    {
      "cell_type": "code",
      "source": [
        "type(rand_number)"
      ],
      "metadata": {
        "colab": {
          "base_uri": "https://localhost:8080/"
        },
        "id": "JXYiRdVCDNNP",
        "outputId": "bb9688b0-a08b-4fc2-a2ce-71c6bdfe26e2"
      },
      "execution_count": null,
      "outputs": [
        {
          "output_type": "execute_result",
          "data": {
            "text/plain": [
              "list"
            ]
          },
          "metadata": {},
          "execution_count": 19
        }
      ],
      "id": "JXYiRdVCDNNP"
    },
    {
      "cell_type": "code",
      "execution_count": null,
      "metadata": {
        "id": "a9ab5edf",
        "colab": {
          "base_uri": "https://localhost:8080/"
        },
        "outputId": "8d01dbcc-e72a-4779-8046-be7212880ac2"
      },
      "outputs": [
        {
          "output_type": "execute_result",
          "data": {
            "text/plain": [
              "range(0, 10)"
            ]
          },
          "metadata": {},
          "execution_count": 25
        }
      ],
      "source": [
        "range(10)"
      ],
      "id": "a9ab5edf"
    },
    {
      "cell_type": "code",
      "execution_count": null,
      "metadata": {
        "id": "bfdea654",
        "colab": {
          "base_uri": "https://localhost:8080/"
        },
        "outputId": "e1ada964-9af4-46fe-bd28-b51a25c6a87a"
      },
      "outputs": [
        {
          "output_type": "execute_result",
          "data": {
            "text/plain": [
              "[0, 1, 2, 3, 4, 5, 6, 7, 8, 9]"
            ]
          },
          "metadata": {},
          "execution_count": 26
        }
      ],
      "source": [
        "new_list = list(range(10)) # start by default is 0\n",
        "new_list"
      ],
      "id": "bfdea654"
    },
    {
      "cell_type": "code",
      "execution_count": null,
      "metadata": {
        "id": "54870728",
        "outputId": "be609656-091c-43fd-87b2-db2d36bdc9b9",
        "colab": {
          "base_uri": "https://localhost:8080/"
        }
      },
      "outputs": [
        {
          "output_type": "execute_result",
          "data": {
            "text/plain": [
              "[1, 3, 5, 7, 9]"
            ]
          },
          "metadata": {},
          "execution_count": 27
        }
      ],
      "source": [
        "new_list = list(range(1, 10, 2)) # start position, end position and steps)\n",
        "new_list"
      ],
      "id": "54870728"
    },
    {
      "cell_type": "code",
      "source": [
        "#List len() function\n",
        "list1 = [10,20,30,40,50]\n",
        "print(len(list1))"
      ],
      "metadata": {
        "id": "alvLdhsNtwHt"
      },
      "id": "alvLdhsNtwHt",
      "execution_count": null,
      "outputs": []
    },
    {
      "cell_type": "code",
      "source": [
        "#list count()\n",
        "list1 = [10,20,30,40,10]\n",
        "num = 10\n",
        "res1 = list1.count(num)\n",
        "print(res1)"
      ],
      "metadata": {
        "id": "e8DdPAuutwTm"
      },
      "id": "e8DdPAuutwTm",
      "execution_count": null,
      "outputs": []
    },
    {
      "cell_type": "code",
      "source": [
        "#List insert()\n",
        "thislist = [1,2,3]\n",
        "thislist.insert(1, 7)\n",
        "print(thislist)"
      ],
      "metadata": {
        "id": "u6-ubR6qtwct"
      },
      "id": "u6-ubR6qtwct",
      "execution_count": null,
      "outputs": []
    },
    {
      "cell_type": "code",
      "source": [
        "#List remove()\n",
        "thislist = [7,9,10]\n",
        "thislist.remove(10)\n",
        "print(thislist)"
      ],
      "metadata": {
        "id": "48RVDz1_twjf"
      },
      "id": "48RVDz1_twjf",
      "execution_count": null,
      "outputs": []
    },
    {
      "cell_type": "code",
      "source": [
        "#List del()\n",
        "list1 = [10,20,30,50]\n",
        "del list1[0]\n",
        "print(list1)"
      ],
      "metadata": {
        "id": "NjNUjrZvtwwg"
      },
      "id": "NjNUjrZvtwwg",
      "execution_count": null,
      "outputs": []
    },
    {
      "cell_type": "code",
      "source": [
        "#List sort()\n",
        "list1 = [1,5,4,7,5,9]\n",
        "list1.sort()\n",
        "print(list1)"
      ],
      "metadata": {
        "id": "ujNlyj9SuB86"
      },
      "id": "ujNlyj9SuB86",
      "execution_count": null,
      "outputs": []
    },
    {
      "cell_type": "code",
      "source": [
        "#List reverse() Method\n",
        "list1 = [1,2,3,4,3]\n",
        "list1.reverse()\n",
        "print(list1)"
      ],
      "metadata": {
        "id": "TkAFSS5-uEku"
      },
      "id": "TkAFSS5-uEku",
      "execution_count": null,
      "outputs": []
    },
    {
      "cell_type": "markdown",
      "metadata": {
        "id": "0f92cf49"
      },
      "source": [
        "### Methods in a list\n",
        "\n",
        "- These are some in-built functions with pre-defined behaviours\n",
        "- for example sum, len etc\n",
        "- These functions may not work with any other data structures\n",
        "\n",
        "https://www.w3schools.com/python/python_ref_list.asp"
      ],
      "id": "0f92cf49"
    },
    {
      "cell_type": "code",
      "source": [],
      "metadata": {
        "id": "OY7H3PujZ41h"
      },
      "id": "OY7H3PujZ41h",
      "execution_count": null,
      "outputs": []
    },
    {
      "cell_type": "markdown",
      "metadata": {
        "id": "628f0dae"
      },
      "source": [
        "## Tuples()"
      ],
      "id": "628f0dae"
    },
    {
      "cell_type": "markdown",
      "metadata": {
        "id": "3e665b0a"
      },
      "source": [
        "1- Immutable\n",
        "\n",
        "2- Ordered data\n",
        "\n",
        "3- All data types\n",
        "\n",
        "4- Duplicates\n",
        "\n",
        "5- Denoted by ()\n",
        "\n",
        "https://www.w3schools.com/python/python_tuples.asp#:~:text=%2C%20%22cherry%22)-,Tuple,which%20is%20ordered%20and%20unchangeable."
      ],
      "id": "3e665b0a"
    },
    {
      "cell_type": "code",
      "execution_count": null,
      "metadata": {
        "id": "e8a00bd2",
        "outputId": "fface0b6-76f0-4296-eb56-35939d6f57aa",
        "colab": {
          "base_uri": "https://localhost:8080/"
        }
      },
      "outputs": [
        {
          "output_type": "execute_result",
          "data": {
            "text/plain": [
              "('Sandeep', 25, 'Graduate', True, 76)"
            ]
          },
          "metadata": {},
          "execution_count": 1
        }
      ],
      "source": [
        "DS001 = \"Sandeep\", 25, \"Graduate\", True, 76 # Name, age, education, IT/NonIT, Python marks\n",
        "DS001"
      ],
      "id": "e8a00bd2"
    },
    {
      "cell_type": "code",
      "execution_count": null,
      "metadata": {
        "id": "711d4aea",
        "outputId": "89c0e821-9a23-4ddc-b871-17ead398c498",
        "colab": {
          "base_uri": "https://localhost:8080/"
        }
      },
      "outputs": [
        {
          "output_type": "execute_result",
          "data": {
            "text/plain": [
              "tuple"
            ]
          },
          "metadata": {},
          "execution_count": 2
        }
      ],
      "source": [
        "type(DS001)"
      ],
      "id": "711d4aea"
    },
    {
      "cell_type": "code",
      "execution_count": null,
      "metadata": {
        "id": "c0fa745d",
        "outputId": "633bbe41-d03b-4c36-8feb-c252a71e94fd",
        "colab": {
          "base_uri": "https://localhost:8080/"
        }
      },
      "outputs": [
        {
          "output_type": "execute_result",
          "data": {
            "text/plain": [
              "('Sandeep', 25, 'Graduate', True, 76)"
            ]
          },
          "metadata": {},
          "execution_count": 3
        }
      ],
      "source": [
        "DS001 = (\"Sandeep\", 25, \"Graduate\", True, 76) # Name, age, education, IT/NonIT, Python marks\n",
        "DS001"
      ],
      "id": "c0fa745d"
    },
    {
      "cell_type": "code",
      "execution_count": null,
      "metadata": {
        "id": "4608345f",
        "outputId": "39d83d5e-0108-4ac0-d21c-61b0d00ff65a",
        "colab": {
          "base_uri": "https://localhost:8080/"
        }
      },
      "outputs": [
        {
          "output_type": "execute_result",
          "data": {
            "text/plain": [
              "tuple"
            ]
          },
          "metadata": {},
          "execution_count": 4
        }
      ],
      "source": [
        "type(DS001)"
      ],
      "id": "4608345f"
    },
    {
      "cell_type": "code",
      "execution_count": null,
      "metadata": {
        "id": "e847bcc8",
        "outputId": "49eb7ad8-4fbd-453f-87c1-597a6609c6ce",
        "colab": {
          "base_uri": "https://localhost:8080/",
          "height": 36
        }
      },
      "outputs": [
        {
          "output_type": "execute_result",
          "data": {
            "text/plain": [
              "'Graduate'"
            ],
            "application/vnd.google.colaboratory.intrinsic+json": {
              "type": "string"
            }
          },
          "metadata": {},
          "execution_count": 5
        }
      ],
      "source": [
        "DS001[2]"
      ],
      "id": "e847bcc8"
    },
    {
      "cell_type": "markdown",
      "source": [
        "### Immutable"
      ],
      "metadata": {
        "id": "H1aM0H9CWSB0"
      },
      "id": "H1aM0H9CWSB0"
    },
    {
      "cell_type": "code",
      "execution_count": null,
      "metadata": {
        "id": "8ec823f8",
        "colab": {
          "base_uri": "https://localhost:8080/",
          "height": 165
        },
        "outputId": "e88c841d-73c0-4192-a553-90897985e27a"
      },
      "outputs": [
        {
          "output_type": "error",
          "ename": "TypeError",
          "evalue": "ignored",
          "traceback": [
            "\u001b[0;31m---------------------------------------------------------------------------\u001b[0m",
            "\u001b[0;31mTypeError\u001b[0m                                 Traceback (most recent call last)",
            "\u001b[0;32m<ipython-input-6-e7f4b425d059>\u001b[0m in \u001b[0;36m<module>\u001b[0;34m()\u001b[0m\n\u001b[0;32m----> 1\u001b[0;31m \u001b[0mDS001\u001b[0m\u001b[0;34m[\u001b[0m\u001b[0;36m2\u001b[0m\u001b[0;34m]\u001b[0m \u001b[0;34m=\u001b[0m \u001b[0;34m\"PhD\"\u001b[0m\u001b[0;34m\u001b[0m\u001b[0;34m\u001b[0m\u001b[0m\n\u001b[0m",
            "\u001b[0;31mTypeError\u001b[0m: 'tuple' object does not support item assignment"
          ]
        }
      ],
      "source": [
        "DS001[2] = \"PhD\""
      ],
      "id": "8ec823f8"
    },
    {
      "cell_type": "markdown",
      "metadata": {
        "id": "975971cf"
      },
      "source": [
        "### Indexing inside tuples"
      ],
      "id": "975971cf"
    },
    {
      "cell_type": "markdown",
      "metadata": {
        "id": "0c0cbbe4"
      },
      "source": [
        "### Methods in tuples"
      ],
      "id": "0c0cbbe4"
    },
    {
      "cell_type": "code",
      "execution_count": null,
      "metadata": {
        "colab": {
          "base_uri": "https://localhost:8080/"
        },
        "id": "526921fc",
        "outputId": "baa0061f-80af-42ae-e618-db813ecaa9db"
      },
      "outputs": [
        {
          "output_type": "execute_result",
          "data": {
            "text/plain": [
              "2"
            ]
          },
          "metadata": {},
          "execution_count": 7
        }
      ],
      "source": [
        "# count, index\n",
        "a = (1, 2, 2, 3, True, \"Sandeep\", 1)\n",
        "a.count(2)"
      ],
      "id": "526921fc"
    },
    {
      "cell_type": "code",
      "source": [
        "b = list(a)\n",
        "type(b)"
      ],
      "metadata": {
        "colab": {
          "base_uri": "https://localhost:8080/"
        },
        "id": "Ets0dAaKcXBP",
        "outputId": "48f50f82-e80e-43e9-f960-f30d829b5661"
      },
      "execution_count": null,
      "outputs": [
        {
          "output_type": "execute_result",
          "data": {
            "text/plain": [
              "list"
            ]
          },
          "metadata": {},
          "execution_count": 13
        }
      ],
      "id": "Ets0dAaKcXBP"
    },
    {
      "cell_type": "markdown",
      "source": [],
      "metadata": {
        "id": "2vM-7OqZENCG"
      },
      "id": "2vM-7OqZENCG"
    },
    {
      "cell_type": "code",
      "execution_count": null,
      "metadata": {
        "id": "fd5a8625",
        "outputId": "626010ec-29b0-4ccf-8013-37ec5019fd5f",
        "colab": {
          "base_uri": "https://localhost:8080/"
        }
      },
      "outputs": [
        {
          "output_type": "execute_result",
          "data": {
            "text/plain": [
              "5"
            ]
          },
          "metadata": {},
          "execution_count": 8
        }
      ],
      "source": [
        "a.index(\"Sandeep\")"
      ],
      "id": "fd5a8625"
    },
    {
      "cell_type": "code",
      "execution_count": null,
      "metadata": {
        "id": "04b4371a",
        "outputId": "65d69d65-078b-40b5-e39e-9f94f6689991",
        "colab": {
          "base_uri": "https://localhost:8080/"
        }
      },
      "outputs": [
        {
          "output_type": "execute_result",
          "data": {
            "text/plain": [
              "('Sandeep',\n",
              " 25,\n",
              " 'Graduate',\n",
              " True,\n",
              " 76,\n",
              " 'Sandeep',\n",
              " 25,\n",
              " 'Graduate',\n",
              " True,\n",
              " 76,\n",
              " 'Sandeep',\n",
              " 25,\n",
              " 'Graduate',\n",
              " True,\n",
              " 76)"
            ]
          },
          "metadata": {},
          "execution_count": 9
        }
      ],
      "source": [
        "DS001 = DS001 * 3 # Basic mathematics are possible\n",
        "DS001"
      ],
      "id": "04b4371a"
    },
    {
      "cell_type": "code",
      "execution_count": null,
      "metadata": {
        "id": "39bcf1de",
        "outputId": "0a351426-13a8-4c03-838c-e58dc9341d9b",
        "colab": {
          "base_uri": "https://localhost:8080/",
          "height": 182
        }
      },
      "outputs": [
        {
          "output_type": "error",
          "ename": "TypeError",
          "evalue": "ignored",
          "traceback": [
            "\u001b[0;31m---------------------------------------------------------------------------\u001b[0m",
            "\u001b[0;31mTypeError\u001b[0m                                 Traceback (most recent call last)",
            "\u001b[0;32m<ipython-input-11-d3e66d4fc22b>\u001b[0m in \u001b[0;36m<module>\u001b[0;34m()\u001b[0m\n\u001b[0;32m----> 1\u001b[0;31m \u001b[0mDS001\u001b[0m \u001b[0;34m=\u001b[0m \u001b[0mDS001\u001b[0m\u001b[0;34m+\u001b[0m \u001b[0;36m25\u001b[0m\u001b[0;34m\u001b[0m\u001b[0;34m\u001b[0m\u001b[0m\n\u001b[0m\u001b[1;32m      2\u001b[0m \u001b[0mDS001\u001b[0m\u001b[0;34m\u001b[0m\u001b[0;34m\u001b[0m\u001b[0m\n",
            "\u001b[0;31mTypeError\u001b[0m: can only concatenate tuple (not \"int\") to tuple"
          ]
        }
      ],
      "source": [
        "DS001 = DS001+ 25\n",
        "DS001"
      ],
      "id": "39bcf1de"
    },
    {
      "cell_type": "code",
      "execution_count": null,
      "metadata": {
        "id": "a860196a"
      },
      "outputs": [],
      "source": [],
      "id": "a860196a"
    },
    {
      "cell_type": "markdown",
      "metadata": {
        "id": "1c77b28f"
      },
      "source": [
        "# Sets"
      ],
      "id": "1c77b28f"
    },
    {
      "cell_type": "markdown",
      "metadata": {
        "id": "a0664557"
      },
      "source": [
        "- denoted {}\n",
        "- unordered\n",
        "- no duplicates\n",
        "- Boolean is not allowed\n",
        "- Mutable\n",
        "\n",
        "https://note.nkmk.me/en/python-set/\n",
        "https://www.w3schools.com/python/python_sets.asp"
      ],
      "id": "a0664557"
    },
    {
      "cell_type": "code",
      "execution_count": null,
      "metadata": {
        "id": "964d97a8",
        "colab": {
          "base_uri": "https://localhost:8080/"
        },
        "outputId": "ad2ca271-e377-4a5f-a041-01ac61e25348"
      },
      "outputs": [
        {
          "output_type": "stream",
          "name": "stdout",
          "text": [
            "{True, 'Sandeep', 'PhD', 52.5, 25}\n"
          ]
        }
      ],
      "source": [
        "DS001 = {\"Sandeep\", 25, True, \"PhD\", 52.5} # Name, age, education, IT/NonIT, Python marks\n",
        "print(DS001)\n"
      ],
      "id": "964d97a8"
    },
    {
      "cell_type": "code",
      "source": [
        "A = {1, 3, 2, 2.5, \"Python\", 2, True}\n",
        "A"
      ],
      "metadata": {
        "colab": {
          "base_uri": "https://localhost:8080/"
        },
        "id": "rSb1kKlZLWKJ",
        "outputId": "574e1bf5-55c7-465c-82cd-5ad23f1d0cc5"
      },
      "execution_count": null,
      "outputs": [
        {
          "output_type": "execute_result",
          "data": {
            "text/plain": [
              "{1, 2, 2.5, 3, 'Python'}"
            ]
          },
          "metadata": {},
          "execution_count": 3
        }
      ],
      "id": "rSb1kKlZLWKJ"
    },
    {
      "cell_type": "code",
      "source": [
        "DS001"
      ],
      "metadata": {
        "colab": {
          "base_uri": "https://localhost:8080/"
        },
        "id": "5MujgKlDLGq-",
        "outputId": "5b7994be-018e-446b-c788-1b660c2f30e6"
      },
      "execution_count": null,
      "outputs": [
        {
          "output_type": "execute_result",
          "data": {
            "text/plain": [
              "{25, 52.5, 'PhD', 'Sandeep', True}"
            ]
          },
          "metadata": {},
          "execution_count": 4
        }
      ],
      "id": "5MujgKlDLGq-"
    },
    {
      "cell_type": "markdown",
      "metadata": {
        "id": "0f21b4f7"
      },
      "source": [
        "- Boolean is excluded\n",
        "- Unordered"
      ],
      "id": "0f21b4f7"
    },
    {
      "cell_type": "code",
      "execution_count": null,
      "metadata": {
        "id": "620b1e2f",
        "outputId": "9757c626-c178-417a-d8bf-db895f15d308"
      },
      "outputs": [
        {
          "data": {
            "text/plain": [
              "{25, 76, 'Graduate', 'Sandeep', True}"
            ]
          },
          "execution_count": 23,
          "metadata": {},
          "output_type": "execute_result"
        }
      ],
      "source": [
        "DS001"
      ],
      "id": "620b1e2f"
    },
    {
      "cell_type": "code",
      "execution_count": null,
      "metadata": {
        "colab": {
          "base_uri": "https://localhost:8080/"
        },
        "id": "0aa85844",
        "outputId": "e0cae1d6-e17b-45ad-ebc1-548d61690371"
      },
      "outputs": [
        {
          "output_type": "execute_result",
          "data": {
            "text/plain": [
              "set"
            ]
          },
          "metadata": {},
          "execution_count": 8
        }
      ],
      "source": [
        "type(DS001)"
      ],
      "id": "0aa85844"
    },
    {
      "cell_type": "code",
      "execution_count": null,
      "metadata": {
        "id": "278534bd",
        "outputId": "62afba4e-605f-470f-9415-6313f065f3e8"
      },
      "outputs": [
        {
          "ename": "TypeError",
          "evalue": "'set' object is not subscriptable",
          "output_type": "error",
          "traceback": [
            "\u001b[1;31m---------------------------------------------------------------------------\u001b[0m",
            "\u001b[1;31mTypeError\u001b[0m                                 Traceback (most recent call last)",
            "\u001b[1;32m~\\AppData\\Local\\Temp/ipykernel_7972/1795903459.py\u001b[0m in \u001b[0;36m<module>\u001b[1;34m\u001b[0m\n\u001b[1;32m----> 1\u001b[1;33m \u001b[0mDS001\u001b[0m\u001b[1;33m[\u001b[0m\u001b[1;36m3\u001b[0m\u001b[1;33m]\u001b[0m\u001b[1;33m\u001b[0m\u001b[1;33m\u001b[0m\u001b[0m\n\u001b[0m",
            "\u001b[1;31mTypeError\u001b[0m: 'set' object is not subscriptable"
          ]
        }
      ],
      "source": [
        "DS001[2]"
      ],
      "id": "278534bd"
    },
    {
      "cell_type": "code",
      "execution_count": null,
      "metadata": {
        "colab": {
          "base_uri": "https://localhost:8080/"
        },
        "id": "664a6553",
        "outputId": "85411884-a44a-4b4a-87fb-045fefe12fa5"
      },
      "outputs": [
        {
          "output_type": "execute_result",
          "data": {
            "text/plain": [
              "{0.5, 2, 'PhD', 'Sandeep', True}"
            ]
          },
          "metadata": {},
          "execution_count": 4
        }
      ],
      "source": [
        "DS005 = {\"Sandeep\", 2, 0.5, \"PhD\", True}\n",
        "DS005\n",
        "#DS005[3] = \"Grad\" # replacing values are not possible"
      ],
      "id": "664a6553"
    },
    {
      "cell_type": "code",
      "execution_count": null,
      "metadata": {
        "id": "787a1f7b"
      },
      "outputs": [],
      "source": [
        "DS005.add(\"Eng\")"
      ],
      "id": "787a1f7b"
    },
    {
      "cell_type": "code",
      "execution_count": null,
      "metadata": {
        "colab": {
          "base_uri": "https://localhost:8080/"
        },
        "id": "65bc1abd",
        "outputId": "c9f8b842-e9dc-434d-c58c-88d509156dcb"
      },
      "outputs": [
        {
          "output_type": "execute_result",
          "data": {
            "text/plain": [
              "{0.5, 2, 'Eng', 'PhD', 'Sandeep', True}"
            ]
          },
          "metadata": {},
          "execution_count": 6
        }
      ],
      "source": [
        "DS005"
      ],
      "id": "65bc1abd"
    },
    {
      "cell_type": "markdown",
      "metadata": {
        "id": "dd861aef"
      },
      "source": [
        "### Creating sets"
      ],
      "id": "dd861aef"
    },
    {
      "cell_type": "code",
      "execution_count": null,
      "metadata": {
        "id": "6e5ce4c3"
      },
      "outputs": [],
      "source": [
        "# Create a set using random import\n",
        "# Create a set using range\n",
        "# Create a list and convert it into set"
      ],
      "id": "6e5ce4c3"
    },
    {
      "cell_type": "code",
      "execution_count": null,
      "metadata": {
        "colab": {
          "base_uri": "https://localhost:8080/"
        },
        "id": "6e9b6419",
        "outputId": "4f230c39-142e-42b4-e009-fd786602635c"
      },
      "outputs": [
        {
          "output_type": "execute_result",
          "data": {
            "text/plain": [
              "{0, 1, 2, 3, 4, 5, 6, 7, 8, 9}"
            ]
          },
          "metadata": {},
          "execution_count": 9
        }
      ],
      "source": [
        "a = set(range(10))\n",
        "a"
      ],
      "id": "6e9b6419"
    },
    {
      "cell_type": "code",
      "execution_count": null,
      "metadata": {
        "colab": {
          "base_uri": "https://localhost:8080/"
        },
        "id": "7b2a1b3c",
        "outputId": "4502576c-d688-44a3-aa91-a6c29a356105"
      },
      "outputs": [
        {
          "output_type": "execute_result",
          "data": {
            "text/plain": [
              "{6, 7, 8, 9, 10, 11, 12, 13, 14}"
            ]
          },
          "metadata": {},
          "execution_count": 10
        }
      ],
      "source": [
        "b = set(range(6, 15))\n",
        "b"
      ],
      "id": "7b2a1b3c"
    },
    {
      "cell_type": "code",
      "execution_count": null,
      "metadata": {
        "colab": {
          "base_uri": "https://localhost:8080/"
        },
        "id": "42792c11",
        "outputId": "98d5c4f0-63ac-4cfd-9787-7722455fe5dd"
      },
      "outputs": [
        {
          "output_type": "execute_result",
          "data": {
            "text/plain": [
              "{10, 11, 12, 13, 14}"
            ]
          },
          "metadata": {},
          "execution_count": 11
        }
      ],
      "source": [
        "b.difference(a) # to see the different values in 2 different sets\n",
        "# values of a not present in b"
      ],
      "id": "42792c11"
    },
    {
      "cell_type": "code",
      "execution_count": null,
      "metadata": {
        "id": "2d29f4c6",
        "outputId": "cfbc77e4-d215-4122-84bd-c68b5b58d5ee",
        "colab": {
          "base_uri": "https://localhost:8080/"
        }
      },
      "outputs": [
        {
          "output_type": "execute_result",
          "data": {
            "text/plain": [
              "{0, 1, 2, 3, 4, 5}"
            ]
          },
          "metadata": {},
          "execution_count": 12
        }
      ],
      "source": [
        "a.difference(b) # to see the different values in 2 different sets\n",
        "# values of b not present in a"
      ],
      "id": "2d29f4c6"
    },
    {
      "cell_type": "code",
      "execution_count": null,
      "metadata": {
        "colab": {
          "base_uri": "https://localhost:8080/"
        },
        "id": "6d14ada4",
        "outputId": "dbfaff79-6f71-416a-91f0-d5ddd6b110bf"
      },
      "outputs": [
        {
          "output_type": "execute_result",
          "data": {
            "text/plain": [
              "{6, 7, 8, 9}"
            ]
          },
          "metadata": {},
          "execution_count": 13
        }
      ],
      "source": [
        "a.intersection(b)# inner join basically means common values"
      ],
      "id": "6d14ada4"
    },
    {
      "cell_type": "code",
      "execution_count": null,
      "metadata": {
        "colab": {
          "base_uri": "https://localhost:8080/"
        },
        "id": "ae16de66",
        "outputId": "0b5b1340-6855-4ddc-c759-e85d8b5fd650"
      },
      "outputs": [
        {
          "output_type": "execute_result",
          "data": {
            "text/plain": [
              "{6, 7, 8, 9}"
            ]
          },
          "metadata": {},
          "execution_count": 21
        }
      ],
      "source": [
        "intersect = a & b\n",
        "intersect"
      ],
      "id": "ae16de66"
    },
    {
      "cell_type": "code",
      "execution_count": null,
      "metadata": {
        "id": "77410c88"
      },
      "outputs": [],
      "source": [
        "a_1 = {1, 1.5, \"Python\", True, 28}"
      ],
      "id": "77410c88"
    },
    {
      "cell_type": "code",
      "execution_count": null,
      "metadata": {
        "colab": {
          "base_uri": "https://localhost:8080/"
        },
        "id": "da187fef",
        "outputId": "f49d188a-8e98-44ff-ccfe-8b678f3c558a"
      },
      "outputs": [
        {
          "output_type": "execute_result",
          "data": {
            "text/plain": [
              "set"
            ]
          },
          "metadata": {},
          "execution_count": 15
        }
      ],
      "source": [
        "type(a_1)"
      ],
      "id": "da187fef"
    },
    {
      "cell_type": "code",
      "execution_count": null,
      "metadata": {
        "colab": {
          "base_uri": "https://localhost:8080/"
        },
        "id": "08409660",
        "outputId": "97411b86-298f-47ec-8e1d-b2301df75f78"
      },
      "outputs": [
        {
          "output_type": "execute_result",
          "data": {
            "text/plain": [
              "{1, 1.5, 28, 'Python'}"
            ]
          },
          "metadata": {},
          "execution_count": 17
        }
      ],
      "source": [
        "a_1"
      ],
      "id": "08409660"
    },
    {
      "cell_type": "code",
      "execution_count": null,
      "metadata": {
        "colab": {
          "base_uri": "https://localhost:8080/"
        },
        "id": "c14749b2",
        "outputId": "5822de73-2f99-4f3d-ffe2-eb86d7ed6bcb"
      },
      "outputs": [
        {
          "output_type": "execute_result",
          "data": {
            "text/plain": [
              "{1, 1.5, 'Python'}"
            ]
          },
          "metadata": {},
          "execution_count": 18
        }
      ],
      "source": [
        "a_1.remove(28) # remove and discard functions are same\n",
        "a_1"
      ],
      "id": "c14749b2"
    },
    {
      "cell_type": "code",
      "execution_count": null,
      "metadata": {
        "colab": {
          "base_uri": "https://localhost:8080/"
        },
        "id": "a662a3af",
        "outputId": "d1a663ca-0fcb-4b37-84b6-a86da93b4472"
      },
      "outputs": [
        {
          "output_type": "execute_result",
          "data": {
            "text/plain": [
              "{1, 1.5}"
            ]
          },
          "metadata": {},
          "execution_count": 19
        }
      ],
      "source": [
        "a_1.discard(\"Python\")\n",
        "a_1"
      ],
      "id": "a662a3af"
    },
    {
      "cell_type": "code",
      "execution_count": null,
      "metadata": {
        "id": "3ce6e74e"
      },
      "outputs": [],
      "source": [
        "abc = {1, 2, 3, 4}\n",
        "bcd = {2, 3, 5, 6}"
      ],
      "id": "3ce6e74e"
    },
    {
      "cell_type": "code",
      "execution_count": null,
      "metadata": {
        "colab": {
          "base_uri": "https://localhost:8080/"
        },
        "id": "bb1261bd",
        "outputId": "7ece87a3-8249-4995-eb66-279d4ca0f653"
      },
      "outputs": [
        {
          "output_type": "execute_result",
          "data": {
            "text/plain": [
              "{1, 2, 3, 4, 5, 6}"
            ]
          },
          "metadata": {},
          "execution_count": 37
        }
      ],
      "source": [
        "abc.union(bcd)"
      ],
      "id": "bb1261bd"
    },
    {
      "cell_type": "code",
      "execution_count": null,
      "metadata": {
        "id": "28b8e9fb"
      },
      "outputs": [],
      "source": [
        "uni = abc | bcd"
      ],
      "id": "28b8e9fb"
    },
    {
      "cell_type": "code",
      "execution_count": null,
      "metadata": {
        "id": "14bacd57",
        "outputId": "dc32f61e-3f74-496a-93ae-b0ca9c97b0bc"
      },
      "outputs": [
        {
          "data": {
            "text/plain": [
              "{1, 2, 3, 4, 5, 6}"
            ]
          },
          "execution_count": 38,
          "metadata": {},
          "output_type": "execute_result"
        }
      ],
      "source": [
        "uni"
      ],
      "id": "14bacd57"
    },
    {
      "cell_type": "markdown",
      "metadata": {
        "id": "a179e157"
      },
      "source": [
        "# Dictionary {key:value}"
      ],
      "id": "a179e157"
    },
    {
      "cell_type": "markdown",
      "metadata": {
        "id": "1cb350a6"
      },
      "source": [
        "## Properties of dictionary\n",
        "\n",
        "1- Mapping based, pairwise element\n",
        "\n",
        "2- Unorder data structure\n",
        "\n",
        "3- All data types\n",
        "\n",
        "4- Override the duplicates\n",
        "\n",
        "5- Mutable value, keys are immutable and no duplicates for keys\n",
        "\n",
        "https://www.w3schools.com/python/python_dictionaries.asp"
      ],
      "id": "1cb350a6"
    },
    {
      "cell_type": "code",
      "execution_count": null,
      "metadata": {
        "colab": {
          "base_uri": "https://localhost:8080/"
        },
        "id": "a25ea993",
        "outputId": "c60e520b-8c89-45c7-bcec-8a320fb02454"
      },
      "outputs": [
        {
          "output_type": "execute_result",
          "data": {
            "text/plain": [
              "{'Age': 25,\n",
              " 'Education': 'Graduate',\n",
              " 'IT background': False,\n",
              " 'Name': 'Sandeep',\n",
              " 'Score': 76}"
            ]
          },
          "metadata": {},
          "execution_count": 3
        }
      ],
      "source": [
        "DS001 = {\"Name\": \"Sandeep\", \"Age\": 25, \"Education\": \"Graduate\", \"IT background\": False, \"Score\": 76} # Name, age, education, IT/NonIT, Python marks\n",
        "DS001"
      ],
      "id": "a25ea993"
    },
    {
      "cell_type": "code",
      "execution_count": null,
      "metadata": {
        "id": "32a918c8",
        "outputId": "32e3b99f-db0b-4084-9970-49be24aae237",
        "colab": {
          "base_uri": "https://localhost:8080/"
        }
      },
      "outputs": [
        {
          "output_type": "execute_result",
          "data": {
            "text/plain": [
              "dict"
            ]
          },
          "metadata": {},
          "execution_count": 4
        }
      ],
      "source": [
        "type(DS001)"
      ],
      "id": "32a918c8"
    },
    {
      "cell_type": "code",
      "execution_count": null,
      "metadata": {
        "id": "526e3dc4",
        "outputId": "1b333695-f088-4575-adbe-5cd401dcf7fe",
        "colab": {
          "base_uri": "https://localhost:8080/",
          "height": 182
        }
      },
      "outputs": [
        {
          "output_type": "error",
          "ename": "KeyError",
          "evalue": "ignored",
          "traceback": [
            "\u001b[0;31m---------------------------------------------------------------------------\u001b[0m",
            "\u001b[0;31mKeyError\u001b[0m                                  Traceback (most recent call last)",
            "\u001b[0;32m<ipython-input-5-c7e1e3105b35>\u001b[0m in \u001b[0;36m<module>\u001b[0;34m()\u001b[0m\n\u001b[1;32m      1\u001b[0m \u001b[0;31m# Unordered cannot access anything using indexing\u001b[0m\u001b[0;34m\u001b[0m\u001b[0;34m\u001b[0m\u001b[0;34m\u001b[0m\u001b[0m\n\u001b[0;32m----> 2\u001b[0;31m \u001b[0mDS001\u001b[0m\u001b[0;34m[\u001b[0m\u001b[0;36m2\u001b[0m\u001b[0;34m]\u001b[0m\u001b[0;34m\u001b[0m\u001b[0;34m\u001b[0m\u001b[0m\n\u001b[0m",
            "\u001b[0;31mKeyError\u001b[0m: 2"
          ]
        }
      ],
      "source": [
        "# Unordered cannot access anything using indexing\n",
        "DS001[2]"
      ],
      "id": "526e3dc4"
    },
    {
      "cell_type": "code",
      "execution_count": null,
      "metadata": {
        "colab": {
          "base_uri": "https://localhost:8080/"
        },
        "id": "d532ded5",
        "outputId": "c2f48d1a-ba85-4b37-e043-f122c827bd49"
      },
      "outputs": [
        {
          "output_type": "execute_result",
          "data": {
            "text/plain": [
              "{'Age': 25,\n",
              " 'Education': 'Graduate',\n",
              " 'IT background': False,\n",
              " 'Name': 'Sandeep',\n",
              " 'Score': 78}"
            ]
          },
          "metadata": {},
          "execution_count": 8
        }
      ],
      "source": [
        "# Override the duplicates\n",
        "DS001 = {\"Name\": \"Sandeep\", \"Age\": 25, \"Education\": \"Graduate\", \"IT background\": False, \"Score\": 79, \"Score\": 78} # Name, age, education, IT/NonIT, Python marks\n",
        "DS001"
      ],
      "id": "d532ded5"
    },
    {
      "cell_type": "markdown",
      "metadata": {
        "id": "b060f634"
      },
      "source": [
        "Score is now 78, 78 override the 76"
      ],
      "id": "b060f634"
    },
    {
      "cell_type": "code",
      "execution_count": null,
      "metadata": {
        "id": "f6a60b24",
        "outputId": "e5024365-513e-4193-e307-c5c3d59ed751",
        "colab": {
          "base_uri": "https://localhost:8080/"
        }
      },
      "outputs": [
        {
          "output_type": "execute_result",
          "data": {
            "text/plain": [
              "{'Age': 25,\n",
              " 'Education': 'PhD',\n",
              " 'IT background': False,\n",
              " 'Name': 'Sandeep',\n",
              " 'Score': 78}"
            ]
          },
          "metadata": {},
          "execution_count": 9
        }
      ],
      "source": [
        "# It is mutable\n",
        "DS001[\"Education\"] = \"PhD\"\n",
        "DS001"
      ],
      "id": "f6a60b24"
    },
    {
      "cell_type": "code",
      "execution_count": null,
      "metadata": {
        "id": "00348bed",
        "outputId": "9eec8fb9-b30b-49f0-a6bd-33047998e41c",
        "colab": {
          "base_uri": "https://localhost:8080/"
        }
      },
      "outputs": [
        {
          "output_type": "execute_result",
          "data": {
            "text/plain": [
              "('Score', 78)"
            ]
          },
          "metadata": {},
          "execution_count": 10
        }
      ],
      "source": [
        "# We can remove last itme using popitem function\n",
        "DS001.popitem()"
      ],
      "id": "00348bed"
    },
    {
      "cell_type": "code",
      "execution_count": null,
      "metadata": {
        "id": "09836b41",
        "outputId": "d426c90b-ea8d-4f39-9002-4717667a5634",
        "colab": {
          "base_uri": "https://localhost:8080/"
        }
      },
      "outputs": [
        {
          "output_type": "execute_result",
          "data": {
            "text/plain": [
              "{'Age': 25, 'Education': 'PhD', 'IT background': False, 'Name': 'Sandeep'}"
            ]
          },
          "metadata": {},
          "execution_count": 11
        }
      ],
      "source": [
        "DS001"
      ],
      "id": "09836b41"
    },
    {
      "cell_type": "code",
      "execution_count": null,
      "metadata": {
        "id": "f963662b"
      },
      "outputs": [],
      "source": [
        "DS001[\"Stats background\"] = \"Yes\""
      ],
      "id": "f963662b"
    },
    {
      "cell_type": "code",
      "execution_count": null,
      "metadata": {
        "colab": {
          "base_uri": "https://localhost:8080/"
        },
        "id": "242718d7",
        "outputId": "2c922011-4759-4fd4-e648-4094fb4d00dd"
      },
      "outputs": [
        {
          "output_type": "execute_result",
          "data": {
            "text/plain": [
              "{'Age': 25,\n",
              " 'Education': 'PhD',\n",
              " 'IT background': False,\n",
              " 'Name': 'Sandeep',\n",
              " 'Stats background': 'Yes'}"
            ]
          },
          "metadata": {},
          "execution_count": 13
        }
      ],
      "source": [
        "DS001"
      ],
      "id": "242718d7"
    },
    {
      "cell_type": "code",
      "source": [
        "test_dict = {1:'aakash',2:'kumar',3:'Bihar',4:'piro'}\n",
        "#print(test_dict.items())\n",
        "#print(test_dict.items())\n",
        "for k, v in test_dict.items():\n",
        "  print(k,\" \",v)"
      ],
      "metadata": {
        "id": "K8S4D9WntfpO"
      },
      "id": "K8S4D9WntfpO",
      "execution_count": null,
      "outputs": []
    },
    {
      "cell_type": "markdown",
      "metadata": {
        "id": "cfdd718e"
      },
      "source": [
        "### Create a dictionary"
      ],
      "id": "cfdd718e"
    },
    {
      "cell_type": "code",
      "execution_count": null,
      "metadata": {
        "id": "ffd1a1d7"
      },
      "outputs": [],
      "source": [
        "Student_ID = [\"DS001\", \"DS002\", \"DS003\"]\n",
        "Student_Edu = [\"PhD\", \"Grad\", \"Under Grad\"]"
      ],
      "id": "ffd1a1d7"
    },
    {
      "cell_type": "code",
      "execution_count": null,
      "metadata": {
        "colab": {
          "base_uri": "https://localhost:8080/"
        },
        "id": "ddee1231",
        "outputId": "e30b641a-b2c7-423b-d56e-2b134f4f1b74"
      },
      "outputs": [
        {
          "output_type": "execute_result",
          "data": {
            "text/plain": [
              "[('DS001', 'PhD'), ('DS002', 'Grad'), ('DS003', 'Under Grad')]"
            ]
          },
          "metadata": {},
          "execution_count": 17
        }
      ],
      "source": [
        "list(zip(Student_ID, Student_Edu)) # zip function merge them based on index"
      ],
      "id": "ddee1231"
    },
    {
      "cell_type": "code",
      "execution_count": null,
      "metadata": {
        "id": "27e7effb"
      },
      "outputs": [],
      "source": [
        "diction = {}\n",
        "for i, j in zip(Student_ID, Student_Edu):\n",
        "    diction[i] = j\n"
      ],
      "id": "27e7effb"
    },
    {
      "cell_type": "code",
      "execution_count": null,
      "metadata": {
        "colab": {
          "base_uri": "https://localhost:8080/"
        },
        "id": "4f375640",
        "outputId": "fdb840a0-a1e7-466d-bf03-0e91128bc610"
      },
      "outputs": [
        {
          "output_type": "execute_result",
          "data": {
            "text/plain": [
              "{'DS001': 'PhD', 'DS002': 'Grad', 'DS003': 'Under Grad'}"
            ]
          },
          "metadata": {},
          "execution_count": 19
        }
      ],
      "source": [
        "diction"
      ],
      "id": "4f375640"
    },
    {
      "cell_type": "markdown",
      "metadata": {
        "id": "17aee465"
      },
      "source": [
        "### Accessing dictionaries\n",
        "\n",
        "- It is unorderd so we cannot use index\n",
        "- Only way to use keys"
      ],
      "id": "17aee465"
    },
    {
      "cell_type": "code",
      "execution_count": null,
      "metadata": {
        "id": "8c43d579",
        "outputId": "8278e300-253d-4645-d0a0-1815f3562c42",
        "colab": {
          "base_uri": "https://localhost:8080/",
          "height": 36
        }
      },
      "outputs": [
        {
          "output_type": "execute_result",
          "data": {
            "text/plain": [
              "'PhD'"
            ],
            "application/vnd.google.colaboratory.intrinsic+json": {
              "type": "string"
            }
          },
          "metadata": {},
          "execution_count": 14
        }
      ],
      "source": [
        "DS001[\"Education\"]"
      ],
      "id": "8c43d579"
    },
    {
      "cell_type": "code",
      "execution_count": null,
      "metadata": {
        "id": "1461c915",
        "outputId": "c25c2715-ba4c-4a58-d54f-29379c4f6087",
        "colab": {
          "base_uri": "https://localhost:8080/"
        }
      },
      "outputs": [
        {
          "output_type": "execute_result",
          "data": {
            "text/plain": [
              "{'Age': 25,\n",
              " 'Education': 'Grad',\n",
              " 'IT background': False,\n",
              " 'Name': 'Sandeep',\n",
              " 'Stats background': 'Yes'}"
            ]
          },
          "metadata": {},
          "execution_count": 15
        }
      ],
      "source": [
        "DS001[\"Education\"] = \"Grad\"\n",
        "DS001"
      ],
      "id": "1461c915"
    },
    {
      "cell_type": "markdown",
      "metadata": {
        "id": "a47ab6a0"
      },
      "source": [
        "### Method in Dict"
      ],
      "id": "a47ab6a0"
    },
    {
      "cell_type": "code",
      "execution_count": null,
      "metadata": {
        "colab": {
          "base_uri": "https://localhost:8080/"
        },
        "id": "8a5ce871",
        "outputId": "0e735aa6-634e-4493-f9df-a1bebc713809"
      },
      "outputs": [
        {
          "output_type": "execute_result",
          "data": {
            "text/plain": [
              "{'DS001': 'PhD', 'DS002': 'Grad', 'DS003': 'Under Grad'}"
            ]
          },
          "metadata": {},
          "execution_count": 11
        }
      ],
      "source": [
        "diction"
      ],
      "id": "8a5ce871"
    },
    {
      "cell_type": "code",
      "execution_count": null,
      "metadata": {
        "colab": {
          "base_uri": "https://localhost:8080/"
        },
        "id": "88cba560",
        "outputId": "e50152de-8a07-4af2-f35f-f8cbbe2108ec"
      },
      "outputs": [
        {
          "output_type": "execute_result",
          "data": {
            "text/plain": [
              "dict_keys(['DS001', 'DS002', 'DS003'])"
            ]
          },
          "metadata": {},
          "execution_count": 20
        }
      ],
      "source": [
        "diction.keys() # it is not necessary the keys will always be in order"
      ],
      "id": "88cba560"
    },
    {
      "cell_type": "code",
      "execution_count": null,
      "metadata": {
        "id": "669e7dc6",
        "outputId": "dc67d2a2-b335-4490-a98e-60c442ad462d",
        "colab": {
          "base_uri": "https://localhost:8080/"
        }
      },
      "outputs": [
        {
          "output_type": "execute_result",
          "data": {
            "text/plain": [
              "['DS001', 'DS002', 'DS003']"
            ]
          },
          "metadata": {},
          "execution_count": 21
        }
      ],
      "source": [
        "keys = list(diction.keys()) # give keys as a list as many operations are easy in list\n",
        "keys"
      ],
      "id": "669e7dc6"
    },
    {
      "cell_type": "code",
      "execution_count": null,
      "metadata": {
        "id": "06e066a6",
        "outputId": "07aa2696-8f87-475f-ee6a-1d68498d2723",
        "colab": {
          "base_uri": "https://localhost:8080/"
        }
      },
      "outputs": [
        {
          "output_type": "execute_result",
          "data": {
            "text/plain": [
              "dict_values(['PhD', 'Grad', 'Under Grad'])"
            ]
          },
          "metadata": {},
          "execution_count": 22
        }
      ],
      "source": [
        "diction.values()"
      ],
      "id": "06e066a6"
    },
    {
      "cell_type": "code",
      "execution_count": null,
      "metadata": {
        "id": "e514abb6",
        "outputId": "f7c8100c-1057-4ede-d734-0bc1b358e651",
        "colab": {
          "base_uri": "https://localhost:8080/"
        }
      },
      "outputs": [
        {
          "output_type": "execute_result",
          "data": {
            "text/plain": [
              "['PhD', 'Grad', 'Under Grad']"
            ]
          },
          "metadata": {},
          "execution_count": 23
        }
      ],
      "source": [
        "val = list(diction.values())\n",
        "val"
      ],
      "id": "e514abb6"
    },
    {
      "cell_type": "code",
      "execution_count": null,
      "metadata": {
        "id": "d92da3de",
        "outputId": "96e81057-1ae7-47ac-f22a-cd0a9bec537c",
        "colab": {
          "base_uri": "https://localhost:8080/"
        }
      },
      "outputs": [
        {
          "output_type": "execute_result",
          "data": {
            "text/plain": [
              "dict_items([('DS001', 'PhD'), ('DS002', 'Grad'), ('DS003', 'Under Grad')])"
            ]
          },
          "metadata": {},
          "execution_count": 24
        }
      ],
      "source": [
        "diction.items() # keys and values will be togther in form of tuple"
      ],
      "id": "d92da3de"
    },
    {
      "cell_type": "code",
      "execution_count": null,
      "metadata": {
        "id": "9cedb129",
        "outputId": "dabfb3ab-ca0e-4459-8882-34e4ffcb70b9",
        "colab": {
          "base_uri": "https://localhost:8080/"
        }
      },
      "outputs": [
        {
          "output_type": "execute_result",
          "data": {
            "text/plain": [
              "{'DS001': 'PhD', 'DS002': 'Grad', 'DS003': 'Under Grad', 'DS004': 'Grad'}"
            ]
          },
          "metadata": {},
          "execution_count": 25
        }
      ],
      "source": [
        "diction['DS004'] = \"Grad\" # including key and values\n",
        "diction"
      ],
      "id": "9cedb129"
    },
    {
      "cell_type": "code",
      "execution_count": null,
      "metadata": {
        "id": "27a3ffbf",
        "outputId": "3322e7f6-6f47-4523-ffa8-91af8c8936ef",
        "colab": {
          "base_uri": "https://localhost:8080/",
          "height": 36
        }
      },
      "outputs": [
        {
          "output_type": "execute_result",
          "data": {
            "text/plain": [
              "'Grad'"
            ],
            "application/vnd.google.colaboratory.intrinsic+json": {
              "type": "string"
            }
          },
          "metadata": {},
          "execution_count": 26
        }
      ],
      "source": [
        "diction.pop(\"DS002\") # we must have to specify key to remove key and values\n"
      ],
      "id": "27a3ffbf"
    },
    {
      "cell_type": "code",
      "execution_count": null,
      "metadata": {
        "id": "9701bd8a",
        "outputId": "a821a7c2-4128-47dc-b679-33e24d81dbd7"
      },
      "outputs": [
        {
          "data": {
            "text/plain": [
              "{'DS001': 'PhD', 'DS003': 'Under Grad', 'DS004': 'Grad'}"
            ]
          },
          "execution_count": 79,
          "metadata": {},
          "output_type": "execute_result"
        }
      ],
      "source": [
        "diction"
      ],
      "id": "9701bd8a"
    },
    {
      "cell_type": "code",
      "execution_count": null,
      "metadata": {
        "id": "7135c196",
        "outputId": "567bf2ff-c8ef-413f-c472-61c38e0b4e9b",
        "colab": {
          "base_uri": "https://localhost:8080/",
          "height": 36
        }
      },
      "outputs": [
        {
          "output_type": "execute_result",
          "data": {
            "text/plain": [
              "'Grad'"
            ],
            "application/vnd.google.colaboratory.intrinsic+json": {
              "type": "string"
            }
          },
          "metadata": {},
          "execution_count": 28
        }
      ],
      "source": [
        "# Get function retrieves values from keys\n",
        "diction.get(\"DS004\") # will not throw error if key is not present"
      ],
      "id": "7135c196"
    },
    {
      "cell_type": "code",
      "source": [
        "diction[\"DS005\"]"
      ],
      "metadata": {
        "colab": {
          "base_uri": "https://localhost:8080/",
          "height": 165
        },
        "id": "khv4MhCrmt7k",
        "outputId": "4c2a712f-5183-4451-b19a-0c4524829c01"
      },
      "execution_count": null,
      "outputs": [
        {
          "output_type": "error",
          "ename": "KeyError",
          "evalue": "ignored",
          "traceback": [
            "\u001b[0;31m---------------------------------------------------------------------------\u001b[0m",
            "\u001b[0;31mKeyError\u001b[0m                                  Traceback (most recent call last)",
            "\u001b[0;32m<ipython-input-29-8f75873d4588>\u001b[0m in \u001b[0;36m<module>\u001b[0;34m()\u001b[0m\n\u001b[0;32m----> 1\u001b[0;31m \u001b[0mdiction\u001b[0m\u001b[0;34m[\u001b[0m\u001b[0;34m\"DS005\"\u001b[0m\u001b[0;34m]\u001b[0m\u001b[0;34m\u001b[0m\u001b[0;34m\u001b[0m\u001b[0m\n\u001b[0m",
            "\u001b[0;31mKeyError\u001b[0m: 'DS005'"
          ]
        }
      ],
      "id": "khv4MhCrmt7k"
    },
    {
      "cell_type": "code",
      "execution_count": null,
      "metadata": {
        "id": "ea54c39d",
        "colab": {
          "base_uri": "https://localhost:8080/"
        },
        "outputId": "1f270535-5cf7-45d7-8698-8d20a30ab6e2"
      },
      "outputs": [
        {
          "output_type": "stream",
          "name": "stdout",
          "text": [
            "{'DS003': 'Under Grad', 'DS004': 'Grad'}\n"
          ]
        }
      ],
      "source": [
        "del diction['DS001']\n",
        "print(diction)"
      ],
      "id": "ea54c39d"
    },
    {
      "cell_type": "code",
      "source": [],
      "metadata": {
        "id": "kAmPBb0Km_Nh"
      },
      "execution_count": null,
      "outputs": [],
      "id": "kAmPBb0Km_Nh"
    }
  ],
  "metadata": {
    "kernelspec": {
      "display_name": "Python 3 (ipykernel)",
      "language": "python",
      "name": "python3"
    },
    "language_info": {
      "codemirror_mode": {
        "name": "ipython",
        "version": 3
      },
      "file_extension": ".py",
      "mimetype": "text/x-python",
      "name": "python",
      "nbconvert_exporter": "python",
      "pygments_lexer": "ipython3",
      "version": "3.9.7"
    },
    "colab": {
      "provenance": [],
      "include_colab_link": true
    }
  },
  "nbformat": 4,
  "nbformat_minor": 5
}